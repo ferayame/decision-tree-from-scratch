{
 "cells": [
  {
   "cell_type": "code",
   "execution_count": 18,
   "metadata": {},
   "outputs": [
    {
     "data": {
      "application/vnd.microsoft.datawrangler.viewer.v0+json": {
       "columns": [
        {
         "name": "index",
         "rawType": "int64",
         "type": "integer"
        },
        {
         "name": "Age",
         "rawType": "object",
         "type": "string"
        },
        {
         "name": "Salaire",
         "rawType": "object",
         "type": "string"
        },
        {
         "name": "Etudiant",
         "rawType": "object",
         "type": "string"
        }
       ],
       "conversionMethod": "pd.DataFrame",
       "ref": "6f01c449-1cb1-41f6-9c04-8f6b37d8130f",
       "rows": [
        [
         "0",
         "Petit",
         "Haut",
         "Non"
        ],
        [
         "1",
         "Petit",
         "Haut",
         "Non"
        ],
        [
         "2",
         "Moyen",
         "Haut",
         "Non"
        ],
        [
         "3",
         "Senior",
         "Moyen",
         "Non"
        ],
        [
         "4",
         "Senior",
         "Bas",
         "Oui"
        ],
        [
         "5",
         "Senior",
         "Bas",
         "Oui"
        ],
        [
         "6",
         "Moyen",
         "Bas",
         "Oui"
        ],
        [
         "7",
         "Petit",
         "Moyen",
         "Non"
        ],
        [
         "8",
         "Petit",
         "Bas",
         "Oui"
        ],
        [
         "9",
         "Senior",
         "Moyen",
         "Oui"
        ],
        [
         "10",
         "Petit",
         "Moyen",
         "Oui"
        ],
        [
         "11",
         "Moyen",
         "Moyen",
         "Non"
        ],
        [
         "12",
         "Moyen",
         "Haut",
         "Oui"
        ],
        [
         "13",
         "Senior",
         "Moyen",
         "Non"
        ]
       ],
       "shape": {
        "columns": 3,
        "rows": 14
       }
      },
      "text/html": [
       "<div>\n",
       "<style scoped>\n",
       "    .dataframe tbody tr th:only-of-type {\n",
       "        vertical-align: middle;\n",
       "    }\n",
       "\n",
       "    .dataframe tbody tr th {\n",
       "        vertical-align: top;\n",
       "    }\n",
       "\n",
       "    .dataframe thead th {\n",
       "        text-align: right;\n",
       "    }\n",
       "</style>\n",
       "<table border=\"1\" class=\"dataframe\">\n",
       "  <thead>\n",
       "    <tr style=\"text-align: right;\">\n",
       "      <th></th>\n",
       "      <th>Age</th>\n",
       "      <th>Salaire</th>\n",
       "      <th>Etudiant</th>\n",
       "    </tr>\n",
       "  </thead>\n",
       "  <tbody>\n",
       "    <tr>\n",
       "      <th>0</th>\n",
       "      <td>Petit</td>\n",
       "      <td>Haut</td>\n",
       "      <td>Non</td>\n",
       "    </tr>\n",
       "    <tr>\n",
       "      <th>1</th>\n",
       "      <td>Petit</td>\n",
       "      <td>Haut</td>\n",
       "      <td>Non</td>\n",
       "    </tr>\n",
       "    <tr>\n",
       "      <th>2</th>\n",
       "      <td>Moyen</td>\n",
       "      <td>Haut</td>\n",
       "      <td>Non</td>\n",
       "    </tr>\n",
       "    <tr>\n",
       "      <th>3</th>\n",
       "      <td>Senior</td>\n",
       "      <td>Moyen</td>\n",
       "      <td>Non</td>\n",
       "    </tr>\n",
       "    <tr>\n",
       "      <th>4</th>\n",
       "      <td>Senior</td>\n",
       "      <td>Bas</td>\n",
       "      <td>Oui</td>\n",
       "    </tr>\n",
       "    <tr>\n",
       "      <th>5</th>\n",
       "      <td>Senior</td>\n",
       "      <td>Bas</td>\n",
       "      <td>Oui</td>\n",
       "    </tr>\n",
       "    <tr>\n",
       "      <th>6</th>\n",
       "      <td>Moyen</td>\n",
       "      <td>Bas</td>\n",
       "      <td>Oui</td>\n",
       "    </tr>\n",
       "    <tr>\n",
       "      <th>7</th>\n",
       "      <td>Petit</td>\n",
       "      <td>Moyen</td>\n",
       "      <td>Non</td>\n",
       "    </tr>\n",
       "    <tr>\n",
       "      <th>8</th>\n",
       "      <td>Petit</td>\n",
       "      <td>Bas</td>\n",
       "      <td>Oui</td>\n",
       "    </tr>\n",
       "    <tr>\n",
       "      <th>9</th>\n",
       "      <td>Senior</td>\n",
       "      <td>Moyen</td>\n",
       "      <td>Oui</td>\n",
       "    </tr>\n",
       "    <tr>\n",
       "      <th>10</th>\n",
       "      <td>Petit</td>\n",
       "      <td>Moyen</td>\n",
       "      <td>Oui</td>\n",
       "    </tr>\n",
       "    <tr>\n",
       "      <th>11</th>\n",
       "      <td>Moyen</td>\n",
       "      <td>Moyen</td>\n",
       "      <td>Non</td>\n",
       "    </tr>\n",
       "    <tr>\n",
       "      <th>12</th>\n",
       "      <td>Moyen</td>\n",
       "      <td>Haut</td>\n",
       "      <td>Oui</td>\n",
       "    </tr>\n",
       "    <tr>\n",
       "      <th>13</th>\n",
       "      <td>Senior</td>\n",
       "      <td>Moyen</td>\n",
       "      <td>Non</td>\n",
       "    </tr>\n",
       "  </tbody>\n",
       "</table>\n",
       "</div>"
      ],
      "text/plain": [
       "       Age Salaire Etudiant\n",
       "0    Petit    Haut      Non\n",
       "1    Petit    Haut      Non\n",
       "2    Moyen    Haut      Non\n",
       "3   Senior   Moyen      Non\n",
       "4   Senior     Bas      Oui\n",
       "5   Senior     Bas      Oui\n",
       "6    Moyen     Bas      Oui\n",
       "7    Petit   Moyen      Non\n",
       "8    Petit     Bas      Oui\n",
       "9   Senior   Moyen      Oui\n",
       "10   Petit   Moyen      Oui\n",
       "11   Moyen   Moyen      Non\n",
       "12   Moyen    Haut      Oui\n",
       "13  Senior   Moyen      Non"
      ]
     },
     "execution_count": 18,
     "metadata": {},
     "output_type": "execute_result"
    }
   ],
   "source": [
    "import pandas as pd # type: ignore\n",
    "\n",
    "data = pd.read_csv('Data.csv')\n",
    "features = data.iloc[:, :-1]\n",
    "target_n = data.iloc[:, -1]\n",
    "features"
   ]
  },
  {
   "cell_type": "code",
   "execution_count": 19,
   "metadata": {},
   "outputs": [
    {
     "data": {
      "text/plain": [
       "'A achete'"
      ]
     },
     "execution_count": 19,
     "metadata": {},
     "output_type": "execute_result"
    }
   ],
   "source": [
    "from sklearn.preprocessing import LabelEncoder #type: ignore\n",
    "\n",
    "label_encoder = LabelEncoder()\n",
    "features = features.apply(label_encoder.fit_transform)\n",
    "target = label_encoder.fit_transform(target_n)\n",
    "target_n.name"
   ]
  },
  {
   "cell_type": "code",
   "execution_count": 20,
   "metadata": {},
   "outputs": [
    {
     "data": {
      "text/plain": [
       "(    Age  Salaire  Etudiant\n",
       " 9     2        2         1\n",
       " 11    0        2         0\n",
       " 0     1        1         0\n",
       " 12    0        1         1\n",
       " 5     2        0         1\n",
       " 8     1        0         1,\n",
       " array([1, 1, 0, 1, 0, 1]))"
      ]
     },
     "execution_count": 20,
     "metadata": {},
     "output_type": "execute_result"
    }
   ],
   "source": [
    "from sklearn.model_selection import train_test_split #type: ignore\n",
    "\n",
    "X_train, X_test, y_train, y_test = train_test_split(features, target, test_size=0.4, random_state=42)\n",
    "X_test, y_test"
   ]
  },
  {
   "cell_type": "code",
   "execution_count": 34,
   "metadata": {},
   "outputs": [
    {
     "name": "stdout",
     "output_type": "stream",
     "text": [
      "Getting inside the fit method\n",
      "MSE: 0.16666666666666666\n",
      "MAE: 0.16666666666666666\n",
      "Report:               precision    recall  f1-score   support\n",
      "\n",
      "           0       1.00      0.50      0.67         2\n",
      "           1       0.80      1.00      0.89         4\n",
      "\n",
      "    accuracy                           0.83         6\n",
      "   macro avg       0.90      0.75      0.78         6\n",
      "weighted avg       0.87      0.83      0.81         6\n",
      "\n"
     ]
    }
   ],
   "source": [
    "from DecisionTree import DecisionTree #type: ignore\n",
    "from sklearn.metrics import mean_squared_error, classification_report, mean_absolute_error # type: ignore\n",
    "\n",
    "tree = DecisionTree()\n",
    "tree.fit(X_train, y_train)\n",
    "y_pred = tree.predict(X_test)\n",
    "\n",
    "\n",
    "report = classification_report(y_test, y_pred)\n",
    "mse = mean_squared_error(y_test, y_pred)\n",
    "mae = mean_absolute_error(y_test, y_pred)\n",
    "\n",
    "print(f'MSE: {mse}\\nMAE: {mae}\\nReport: {report}')"
   ]
  },
  {
   "cell_type": "code",
   "execution_count": 32,
   "metadata": {},
   "outputs": [
    {
     "data": {
      "image/png": "[encoded data removed]",
      "text/plain": [
       "<Figure size 1000x600 with 1 Axes>"
      ]
     },
     "metadata": {},
     "output_type": "display_data"
    }
   ],
   "source": [
    "from DecisionTreePlotter import DtPlotter #type: ignore\n",
    "\n",
    "plotter = DtPlotter(tree.tree)\n",
    "plotter.plot()"
   ]
  }
 ],
 "metadata": {
  "kernelspec": {
   "display_name": "Python 3",
   "language": "python",
   "name": "python3"
  },
  "language_info": {
   "codemirror_mode": {
    "name": "ipython",
    "version": 3
   },
   "file_extension": ".py",
   "mimetype": "text/x-python",
   "name": "python",
   "nbconvert_exporter": "python",
   "pygments_lexer": "ipython3",
   "version": "3.13.0"
  }
 },
 "nbformat": 4,
 "nbformat_minor": 2
}
