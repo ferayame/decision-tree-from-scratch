{
 "cells": [
  {
   "cell_type": "code",
   "execution_count": 2,
   "metadata": {},
   "outputs": [
    {
     "data": {
      "application/vnd.microsoft.datawrangler.viewer.v0+json": {
       "columns": [
        {
         "name": "index",
         "rawType": "int64",
         "type": "integer"
        },
        {
         "name": "Age",
         "rawType": "object",
         "type": "string"
        },
        {
         "name": "Salaire",
         "rawType": "object",
         "type": "string"
        },
        {
         "name": "Etudiant",
         "rawType": "object",
         "type": "string"
        }
       ],
       "conversionMethod": "pd.DataFrame",
       "ref": "b35dae9d-5501-487c-87b9-27c31ba7de75",
       "rows": [
        [
         "0",
         "Petit",
         "Haut",
         "Non"
        ],
        [
         "1",
         "Petit",
         "Haut",
         "Non"
        ],
        [
         "2",
         "Moyen",
         "Haut",
         "Non"
        ],
        [
         "3",
         "Senior",
         "Moyen",
         "Non"
        ],
        [
         "4",
         "Senior",
         "Bas",
         "Oui"
        ],
        [
         "5",
         "Senior",
         "Bas",
         "Oui"
        ],
        [
         "6",
         "Moyen",
         "Bas",
         "Oui"
        ],
        [
         "7",
         "Petit",
         "Moyen",
         "Non"
        ],
        [
         "8",
         "Petit",
         "Bas",
         "Oui"
        ],
        [
         "9",
         "Senior",
         "Moyen",
         "Oui"
        ],
        [
         "10",
         "Petit",
         "Moyen",
         "Oui"
        ],
        [
         "11",
         "Moyen",
         "Moyen",
         "Non"
        ],
        [
         "12",
         "Moyen",
         "Haut",
         "Oui"
        ],
        [
         "13",
         "Senior",
         "Moyen",
         "Non"
        ]
       ],
       "shape": {
        "columns": 3,
        "rows": 14
       }
      },
      "text/html": [
       "<div>\n",
       "<style scoped>\n",
       "    .dataframe tbody tr th:only-of-type {\n",
       "        vertical-align: middle;\n",
       "    }\n",
       "\n",
       "    .dataframe tbody tr th {\n",
       "        vertical-align: top;\n",
       "    }\n",
       "\n",
       "    .dataframe thead th {\n",
       "        text-align: right;\n",
       "    }\n",
       "</style>\n",
       "<table border=\"1\" class=\"dataframe\">\n",
       "  <thead>\n",
       "    <tr style=\"text-align: right;\">\n",
       "      <th></th>\n",
       "      <th>Age</th>\n",
       "      <th>Salaire</th>\n",
       "      <th>Etudiant</th>\n",
       "    </tr>\n",
       "  </thead>\n",
       "  <tbody>\n",
       "    <tr>\n",
       "      <th>0</th>\n",
       "      <td>Petit</td>\n",
       "      <td>Haut</td>\n",
       "      <td>Non</td>\n",
       "    </tr>\n",
       "    <tr>\n",
       "      <th>1</th>\n",
       "      <td>Petit</td>\n",
       "      <td>Haut</td>\n",
       "      <td>Non</td>\n",
       "    </tr>\n",
       "    <tr>\n",
       "      <th>2</th>\n",
       "      <td>Moyen</td>\n",
       "      <td>Haut</td>\n",
       "      <td>Non</td>\n",
       "    </tr>\n",
       "    <tr>\n",
       "      <th>3</th>\n",
       "      <td>Senior</td>\n",
       "      <td>Moyen</td>\n",
       "      <td>Non</td>\n",
       "    </tr>\n",
       "    <tr>\n",
       "      <th>4</th>\n",
       "      <td>Senior</td>\n",
       "      <td>Bas</td>\n",
       "      <td>Oui</td>\n",
       "    </tr>\n",
       "    <tr>\n",
       "      <th>5</th>\n",
       "      <td>Senior</td>\n",
       "      <td>Bas</td>\n",
       "      <td>Oui</td>\n",
       "    </tr>\n",
       "    <tr>\n",
       "      <th>6</th>\n",
       "      <td>Moyen</td>\n",
       "      <td>Bas</td>\n",
       "      <td>Oui</td>\n",
       "    </tr>\n",
       "    <tr>\n",
       "      <th>7</th>\n",
       "      <td>Petit</td>\n",
       "      <td>Moyen</td>\n",
       "      <td>Non</td>\n",
       "    </tr>\n",
       "    <tr>\n",
       "      <th>8</th>\n",
       "      <td>Petit</td>\n",
       "      <td>Bas</td>\n",
       "      <td>Oui</td>\n",
       "    </tr>\n",
       "    <tr>\n",
       "      <th>9</th>\n",
       "      <td>Senior</td>\n",
       "      <td>Moyen</td>\n",
       "      <td>Oui</td>\n",
       "    </tr>\n",
       "    <tr>\n",
       "      <th>10</th>\n",
       "      <td>Petit</td>\n",
       "      <td>Moyen</td>\n",
       "      <td>Oui</td>\n",
       "    </tr>\n",
       "    <tr>\n",
       "      <th>11</th>\n",
       "      <td>Moyen</td>\n",
       "      <td>Moyen</td>\n",
       "      <td>Non</td>\n",
       "    </tr>\n",
       "    <tr>\n",
       "      <th>12</th>\n",
       "      <td>Moyen</td>\n",
       "      <td>Haut</td>\n",
       "      <td>Oui</td>\n",
       "    </tr>\n",
       "    <tr>\n",
       "      <th>13</th>\n",
       "      <td>Senior</td>\n",
       "      <td>Moyen</td>\n",
       "      <td>Non</td>\n",
       "    </tr>\n",
       "  </tbody>\n",
       "</table>\n",
       "</div>"
      ],
      "text/plain": [
       "       Age Salaire Etudiant\n",
       "0    Petit    Haut      Non\n",
       "1    Petit    Haut      Non\n",
       "2    Moyen    Haut      Non\n",
       "3   Senior   Moyen      Non\n",
       "4   Senior     Bas      Oui\n",
       "5   Senior     Bas      Oui\n",
       "6    Moyen     Bas      Oui\n",
       "7    Petit   Moyen      Non\n",
       "8    Petit     Bas      Oui\n",
       "9   Senior   Moyen      Oui\n",
       "10   Petit   Moyen      Oui\n",
       "11   Moyen   Moyen      Non\n",
       "12   Moyen    Haut      Oui\n",
       "13  Senior   Moyen      Non"
      ]
     },
     "execution_count": 2,
     "metadata": {},
     "output_type": "execute_result"
    }
   ],
   "source": [
    "import pandas as pd # type: ignore\n",
    "\n",
    "data = pd.read_csv('Data.csv')\n",
    "features = data.iloc[:, :-1]\n",
    "target = data.iloc[:, -1]\n",
    "features"
   ]
  },
  {
   "cell_type": "code",
   "execution_count": 3,
   "metadata": {},
   "outputs": [
    {
     "data": {
      "application/vnd.microsoft.datawrangler.viewer.v0+json": {
       "columns": [
        {
         "name": "index",
         "rawType": "int64",
         "type": "integer"
        },
        {
         "name": "Age",
         "rawType": "int64",
         "type": "integer"
        },
        {
         "name": "Salaire",
         "rawType": "int64",
         "type": "integer"
        },
        {
         "name": "Etudiant",
         "rawType": "int64",
         "type": "integer"
        }
       ],
       "conversionMethod": "pd.DataFrame",
       "ref": "252996d2-4138-4287-9fe2-375edea243f5",
       "rows": [
        [
         "0",
         "1",
         "1",
         "0"
        ],
        [
         "1",
         "1",
         "1",
         "0"
        ],
        [
         "2",
         "0",
         "1",
         "0"
        ],
        [
         "3",
         "2",
         "2",
         "0"
        ],
        [
         "4",
         "2",
         "0",
         "1"
        ],
        [
         "5",
         "2",
         "0",
         "1"
        ],
        [
         "6",
         "0",
         "0",
         "1"
        ],
        [
         "7",
         "1",
         "2",
         "0"
        ],
        [
         "8",
         "1",
         "0",
         "1"
        ],
        [
         "9",
         "2",
         "2",
         "1"
        ],
        [
         "10",
         "1",
         "2",
         "1"
        ],
        [
         "11",
         "0",
         "2",
         "0"
        ],
        [
         "12",
         "0",
         "1",
         "1"
        ],
        [
         "13",
         "2",
         "2",
         "0"
        ]
       ],
       "shape": {
        "columns": 3,
        "rows": 14
       }
      },
      "text/html": [
       "<div>\n",
       "<style scoped>\n",
       "    .dataframe tbody tr th:only-of-type {\n",
       "        vertical-align: middle;\n",
       "    }\n",
       "\n",
       "    .dataframe tbody tr th {\n",
       "        vertical-align: top;\n",
       "    }\n",
       "\n",
       "    .dataframe thead th {\n",
       "        text-align: right;\n",
       "    }\n",
       "</style>\n",
       "<table border=\"1\" class=\"dataframe\">\n",
       "  <thead>\n",
       "    <tr style=\"text-align: right;\">\n",
       "      <th></th>\n",
       "      <th>Age</th>\n",
       "      <th>Salaire</th>\n",
       "      <th>Etudiant</th>\n",
       "    </tr>\n",
       "  </thead>\n",
       "  <tbody>\n",
       "    <tr>\n",
       "      <th>0</th>\n",
       "      <td>1</td>\n",
       "      <td>1</td>\n",
       "      <td>0</td>\n",
       "    </tr>\n",
       "    <tr>\n",
       "      <th>1</th>\n",
       "      <td>1</td>\n",
       "      <td>1</td>\n",
       "      <td>0</td>\n",
       "    </tr>\n",
       "    <tr>\n",
       "      <th>2</th>\n",
       "      <td>0</td>\n",
       "      <td>1</td>\n",
       "      <td>0</td>\n",
       "    </tr>\n",
       "    <tr>\n",
       "      <th>3</th>\n",
       "      <td>2</td>\n",
       "      <td>2</td>\n",
       "      <td>0</td>\n",
       "    </tr>\n",
       "    <tr>\n",
       "      <th>4</th>\n",
       "      <td>2</td>\n",
       "      <td>0</td>\n",
       "      <td>1</td>\n",
       "    </tr>\n",
       "    <tr>\n",
       "      <th>5</th>\n",
       "      <td>2</td>\n",
       "      <td>0</td>\n",
       "      <td>1</td>\n",
       "    </tr>\n",
       "    <tr>\n",
       "      <th>6</th>\n",
       "      <td>0</td>\n",
       "      <td>0</td>\n",
       "      <td>1</td>\n",
       "    </tr>\n",
       "    <tr>\n",
       "      <th>7</th>\n",
       "      <td>1</td>\n",
       "      <td>2</td>\n",
       "      <td>0</td>\n",
       "    </tr>\n",
       "    <tr>\n",
       "      <th>8</th>\n",
       "      <td>1</td>\n",
       "      <td>0</td>\n",
       "      <td>1</td>\n",
       "    </tr>\n",
       "    <tr>\n",
       "      <th>9</th>\n",
       "      <td>2</td>\n",
       "      <td>2</td>\n",
       "      <td>1</td>\n",
       "    </tr>\n",
       "    <tr>\n",
       "      <th>10</th>\n",
       "      <td>1</td>\n",
       "      <td>2</td>\n",
       "      <td>1</td>\n",
       "    </tr>\n",
       "    <tr>\n",
       "      <th>11</th>\n",
       "      <td>0</td>\n",
       "      <td>2</td>\n",
       "      <td>0</td>\n",
       "    </tr>\n",
       "    <tr>\n",
       "      <th>12</th>\n",
       "      <td>0</td>\n",
       "      <td>1</td>\n",
       "      <td>1</td>\n",
       "    </tr>\n",
       "    <tr>\n",
       "      <th>13</th>\n",
       "      <td>2</td>\n",
       "      <td>2</td>\n",
       "      <td>0</td>\n",
       "    </tr>\n",
       "  </tbody>\n",
       "</table>\n",
       "</div>"
      ],
      "text/plain": [
       "    Age  Salaire  Etudiant\n",
       "0     1        1         0\n",
       "1     1        1         0\n",
       "2     0        1         0\n",
       "3     2        2         0\n",
       "4     2        0         1\n",
       "5     2        0         1\n",
       "6     0        0         1\n",
       "7     1        2         0\n",
       "8     1        0         1\n",
       "9     2        2         1\n",
       "10    1        2         1\n",
       "11    0        2         0\n",
       "12    0        1         1\n",
       "13    2        2         0"
      ]
     },
     "execution_count": 3,
     "metadata": {},
     "output_type": "execute_result"
    }
   ],
   "source": [
    "from sklearn.preprocessing import LabelEncoder #type: ignore\n",
    "\n",
    "label_encoder = LabelEncoder()\n",
    "features = features.apply(label_encoder.fit_transform)\n",
    "features"
   ]
  },
  {
   "cell_type": "code",
   "execution_count": null,
   "metadata": {},
   "outputs": [],
   "source": [
    "import decisionTree\n",
    "\n"
   ]
  }
 ],
 "metadata": {
  "kernelspec": {
   "display_name": "Python 3",
   "language": "python",
   "name": "python3"
  },
  "language_info": {
   "codemirror_mode": {
    "name": "ipython",
    "version": 3
   },
   "file_extension": ".py",
   "mimetype": "text/x-python",
   "name": "python",
   "nbconvert_exporter": "python",
   "pygments_lexer": "ipython3",
   "version": "3.13.0"
  }
 },
 "nbformat": 4,
 "nbformat_minor": 2
}
