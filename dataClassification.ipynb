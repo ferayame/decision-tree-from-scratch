{
 "cells": [
  {
   "cell_type": "code",
   "execution_count": 6,
   "metadata": {},
   "outputs": [
    {
     "data": {
      "application/vnd.microsoft.datawrangler.viewer.v0+json": {
       "columns": [
        {
         "name": "index",
         "rawType": "int64",
         "type": "integer"
        },
        {
         "name": "Age",
         "rawType": "object",
         "type": "string"
        },
        {
         "name": "Salaire",
         "rawType": "object",
         "type": "string"
        },
        {
         "name": "Etudiant",
         "rawType": "object",
         "type": "string"
        },
        {
         "name": "A achete",
         "rawType": "object",
         "type": "string"
        }
       ],
       "conversionMethod": "pd.DataFrame",
       "ref": "ced3fe62-ad39-415c-9800-7a3ed8c1d4fc",
       "rows": [
        [
         "0",
         "Petit",
         "Haut",
         "Non",
         "Non"
        ],
        [
         "1",
         "Petit",
         "Haut",
         "Non",
         "Non"
        ],
        [
         "2",
         "Moyen",
         "Haut",
         "Non",
         "Oui"
        ],
        [
         "3",
         "Senior",
         "Moyen",
         "Non",
         "Oui"
        ],
        [
         "4",
         "Senior",
         "Bas",
         "Oui",
         "Oui"
        ],
        [
         "5",
         "Senior",
         "Bas",
         "Oui",
         "Non"
        ],
        [
         "6",
         "Moyen",
         "Bas",
         "Oui",
         "Oui"
        ],
        [
         "7",
         "Petit",
         "Moyen",
         "Non",
         "Non"
        ],
        [
         "8",
         "Petit",
         "Bas",
         "Oui",
         "Oui"
        ],
        [
         "9",
         "Senior",
         "Moyen",
         "Oui",
         "Oui"
        ],
        [
         "10",
         "Petit",
         "Moyen",
         "Oui",
         "Oui"
        ],
        [
         "11",
         "Moyen",
         "Moyen",
         "Non",
         "Oui"
        ],
        [
         "12",
         "Moyen",
         "Haut",
         "Oui",
         "Oui"
        ],
        [
         "13",
         "Senior",
         "Moyen",
         "Non",
         "Non"
        ]
       ],
       "shape": {
        "columns": 4,
        "rows": 14
       }
      },
      "text/html": [
       "<div>\n",
       "<style scoped>\n",
       "    .dataframe tbody tr th:only-of-type {\n",
       "        vertical-align: middle;\n",
       "    }\n",
       "\n",
       "    .dataframe tbody tr th {\n",
       "        vertical-align: top;\n",
       "    }\n",
       "\n",
       "    .dataframe thead th {\n",
       "        text-align: right;\n",
       "    }\n",
       "</style>\n",
       "<table border=\"1\" class=\"dataframe\">\n",
       "  <thead>\n",
       "    <tr style=\"text-align: right;\">\n",
       "      <th></th>\n",
       "      <th>Age</th>\n",
       "      <th>Salaire</th>\n",
       "      <th>Etudiant</th>\n",
       "      <th>A achete</th>\n",
       "    </tr>\n",
       "  </thead>\n",
       "  <tbody>\n",
       "    <tr>\n",
       "      <th>0</th>\n",
       "      <td>Petit</td>\n",
       "      <td>Haut</td>\n",
       "      <td>Non</td>\n",
       "      <td>Non</td>\n",
       "    </tr>\n",
       "    <tr>\n",
       "      <th>1</th>\n",
       "      <td>Petit</td>\n",
       "      <td>Haut</td>\n",
       "      <td>Non</td>\n",
       "      <td>Non</td>\n",
       "    </tr>\n",
       "    <tr>\n",
       "      <th>2</th>\n",
       "      <td>Moyen</td>\n",
       "      <td>Haut</td>\n",
       "      <td>Non</td>\n",
       "      <td>Oui</td>\n",
       "    </tr>\n",
       "    <tr>\n",
       "      <th>3</th>\n",
       "      <td>Senior</td>\n",
       "      <td>Moyen</td>\n",
       "      <td>Non</td>\n",
       "      <td>Oui</td>\n",
       "    </tr>\n",
       "    <tr>\n",
       "      <th>4</th>\n",
       "      <td>Senior</td>\n",
       "      <td>Bas</td>\n",
       "      <td>Oui</td>\n",
       "      <td>Oui</td>\n",
       "    </tr>\n",
       "    <tr>\n",
       "      <th>5</th>\n",
       "      <td>Senior</td>\n",
       "      <td>Bas</td>\n",
       "      <td>Oui</td>\n",
       "      <td>Non</td>\n",
       "    </tr>\n",
       "    <tr>\n",
       "      <th>6</th>\n",
       "      <td>Moyen</td>\n",
       "      <td>Bas</td>\n",
       "      <td>Oui</td>\n",
       "      <td>Oui</td>\n",
       "    </tr>\n",
       "    <tr>\n",
       "      <th>7</th>\n",
       "      <td>Petit</td>\n",
       "      <td>Moyen</td>\n",
       "      <td>Non</td>\n",
       "      <td>Non</td>\n",
       "    </tr>\n",
       "    <tr>\n",
       "      <th>8</th>\n",
       "      <td>Petit</td>\n",
       "      <td>Bas</td>\n",
       "      <td>Oui</td>\n",
       "      <td>Oui</td>\n",
       "    </tr>\n",
       "    <tr>\n",
       "      <th>9</th>\n",
       "      <td>Senior</td>\n",
       "      <td>Moyen</td>\n",
       "      <td>Oui</td>\n",
       "      <td>Oui</td>\n",
       "    </tr>\n",
       "    <tr>\n",
       "      <th>10</th>\n",
       "      <td>Petit</td>\n",
       "      <td>Moyen</td>\n",
       "      <td>Oui</td>\n",
       "      <td>Oui</td>\n",
       "    </tr>\n",
       "    <tr>\n",
       "      <th>11</th>\n",
       "      <td>Moyen</td>\n",
       "      <td>Moyen</td>\n",
       "      <td>Non</td>\n",
       "      <td>Oui</td>\n",
       "    </tr>\n",
       "    <tr>\n",
       "      <th>12</th>\n",
       "      <td>Moyen</td>\n",
       "      <td>Haut</td>\n",
       "      <td>Oui</td>\n",
       "      <td>Oui</td>\n",
       "    </tr>\n",
       "    <tr>\n",
       "      <th>13</th>\n",
       "      <td>Senior</td>\n",
       "      <td>Moyen</td>\n",
       "      <td>Non</td>\n",
       "      <td>Non</td>\n",
       "    </tr>\n",
       "  </tbody>\n",
       "</table>\n",
       "</div>"
      ],
      "text/plain": [
       "       Age Salaire Etudiant A achete\n",
       "0    Petit    Haut      Non      Non\n",
       "1    Petit    Haut      Non      Non\n",
       "2    Moyen    Haut      Non      Oui\n",
       "3   Senior   Moyen      Non      Oui\n",
       "4   Senior     Bas      Oui      Oui\n",
       "5   Senior     Bas      Oui      Non\n",
       "6    Moyen     Bas      Oui      Oui\n",
       "7    Petit   Moyen      Non      Non\n",
       "8    Petit     Bas      Oui      Oui\n",
       "9   Senior   Moyen      Oui      Oui\n",
       "10   Petit   Moyen      Oui      Oui\n",
       "11   Moyen   Moyen      Non      Oui\n",
       "12   Moyen    Haut      Oui      Oui\n",
       "13  Senior   Moyen      Non      Non"
      ]
     },
     "execution_count": 6,
     "metadata": {},
     "output_type": "execute_result"
    }
   ],
   "source": [
    "import pandas as pd # type: ignore\n",
    "\n",
    "data = pd.read_csv('Data.csv')\n",
    "features = data.iloc[:, :-1]\n",
    "target_n = data.iloc[:, -1]\n",
    "data"
   ]
  },
  {
   "cell_type": "code",
   "execution_count": 3,
   "metadata": {},
   "outputs": [],
   "source": [
    "from sklearn.preprocessing import LabelEncoder #type: ignore\n",
    "\n",
    "label_encoder = LabelEncoder()\n",
    "features = features.apply(label_encoder.fit_transform)\n",
    "target = label_encoder.fit_transform(target_n)"
   ]
  },
  {
   "cell_type": "code",
   "execution_count": 4,
   "metadata": {},
   "outputs": [
    {
     "data": {
      "text/plain": [
       "(    Age  Salaire  Etudiant\n",
       " 9     2        2         1\n",
       " 11    0        2         0\n",
       " 0     1        1         0\n",
       " 12    0        1         1\n",
       " 5     2        0         1\n",
       " 8     1        0         1,\n",
       " array([1, 1, 0, 1, 0, 1]))"
      ]
     },
     "execution_count": 4,
     "metadata": {},
     "output_type": "execute_result"
    }
   ],
   "source": [
    "from sklearn.model_selection import train_test_split #type: ignore\n",
    "\n",
    "X_train, X_test, y_train, y_test = train_test_split(features, target, test_size=0.4, random_state=42)\n",
    "X_test, y_test"
   ]
  },
  {
   "cell_type": "code",
   "execution_count": 8,
   "metadata": {},
   "outputs": [
    {
     "name": "stdout",
     "output_type": "stream",
     "text": [
      "MSE: 0.16666666666666666\n",
      "MAE: 0.16666666666666666\n",
      "Report:               precision    recall  f1-score   support\n",
      "\n",
      "           0       1.00      0.50      0.67         2\n",
      "           1       0.80      1.00      0.89         4\n",
      "\n",
      "    accuracy                           0.83         6\n",
      "   macro avg       0.90      0.75      0.78         6\n",
      "weighted avg       0.87      0.83      0.81         6\n",
      "\n"
     ]
    }
   ],
   "source": [
    "from decisionTree import DecisionTree #type: ignore\n",
    "from sklearn.metrics import mean_squared_error, classification_report, mean_absolute_error # type: ignore\n",
    "\n",
    "tree = DecisionTree()\n",
    "tree.fit(X_train, y_train)\n",
    "y_pred = tree.predict(X_test)\n",
    "\n",
    "\n",
    "report = classification_report(y_test, y_pred)\n",
    "mse = mean_squared_error(y_test, y_pred)\n",
    "mae = mean_absolute_error(y_test, y_pred)\n",
    "\n",
    "print(f'MSE: {mse}\\nMAE: {mae}\\nReport: {report}')"
   ]
  },
  {
   "cell_type": "code",
   "execution_count": 9,
   "metadata": {},
   "outputs": [
    {
     "data": {
      "image/png": "[encoded data removed]",
      "text/plain": [
       "<Figure size 1000x600 with 1 Axes>"
      ]
     },
     "metadata": {},
     "output_type": "display_data"
    }
   ],
   "source": [
    "from DecisionTreePlotter import DtPlotter #type: ignore\n",
    "\n",
    "plotter = DtPlotter(tree.tree)\n",
    "plotter.plot()"
   ]
  },
  {
   "cell_type": "code",
   "execution_count": 10,
   "metadata": {},
   "outputs": [
    {
     "data": {
      "application/vnd.microsoft.datawrangler.viewer.v0+json": {
       "columns": [
        {
         "name": "index",
         "rawType": "int64",
         "type": "integer"
        },
        {
         "name": "Age",
         "rawType": "object",
         "type": "string"
        },
        {
         "name": "Salaire",
         "rawType": "object",
         "type": "string"
        },
        {
         "name": "Etudiant",
         "rawType": "object",
         "type": "string"
        },
        {
         "name": "A achete",
         "rawType": "object",
         "type": "string"
        }
       ],
       "conversionMethod": "pd.DataFrame",
       "ref": "caa63ec5-f75b-4566-8ee0-313602de42ae",
       "rows": [
        [
         "0",
         "petit",
         "haut",
         "non",
         "non"
        ],
        [
         "1",
         "petit",
         "haut",
         "non",
         "non"
        ],
        [
         "2",
         "moyen",
         "haut",
         "non",
         "oui"
        ],
        [
         "3",
         "senior",
         "moyen",
         "non",
         "oui"
        ],
        [
         "4",
         "senior",
         "bas",
         "oui",
         "oui"
        ],
        [
         "5",
         "senior",
         "bas",
         "oui",
         "non"
        ],
        [
         "6",
         "moyen",
         "bas",
         "oui",
         "oui"
        ],
        [
         "7",
         "petit",
         "moyen",
         "non",
         "non"
        ],
        [
         "8",
         "petit",
         "bas",
         "oui",
         "oui"
        ],
        [
         "9",
         "senior",
         "moyen",
         "oui",
         "oui"
        ],
        [
         "10",
         "petit",
         "moyen",
         "oui",
         "oui"
        ],
        [
         "11",
         "moyen",
         "moyen",
         "non",
         "oui"
        ],
        [
         "12",
         "moyen",
         "haut",
         "oui",
         "oui"
        ],
        [
         "13",
         "senior",
         "moyen",
         "non",
         "non"
        ]
       ],
       "shape": {
        "columns": 4,
        "rows": 14
       }
      },
      "text/html": [
       "<div>\n",
       "<style scoped>\n",
       "    .dataframe tbody tr th:only-of-type {\n",
       "        vertical-align: middle;\n",
       "    }\n",
       "\n",
       "    .dataframe tbody tr th {\n",
       "        vertical-align: top;\n",
       "    }\n",
       "\n",
       "    .dataframe thead th {\n",
       "        text-align: right;\n",
       "    }\n",
       "</style>\n",
       "<table border=\"1\" class=\"dataframe\">\n",
       "  <thead>\n",
       "    <tr style=\"text-align: right;\">\n",
       "      <th></th>\n",
       "      <th>Age</th>\n",
       "      <th>Salaire</th>\n",
       "      <th>Etudiant</th>\n",
       "      <th>A achete</th>\n",
       "    </tr>\n",
       "  </thead>\n",
       "  <tbody>\n",
       "    <tr>\n",
       "      <th>0</th>\n",
       "      <td>petit</td>\n",
       "      <td>haut</td>\n",
       "      <td>non</td>\n",
       "      <td>non</td>\n",
       "    </tr>\n",
       "    <tr>\n",
       "      <th>1</th>\n",
       "      <td>petit</td>\n",
       "      <td>haut</td>\n",
       "      <td>non</td>\n",
       "      <td>non</td>\n",
       "    </tr>\n",
       "    <tr>\n",
       "      <th>2</th>\n",
       "      <td>moyen</td>\n",
       "      <td>haut</td>\n",
       "      <td>non</td>\n",
       "      <td>oui</td>\n",
       "    </tr>\n",
       "    <tr>\n",
       "      <th>3</th>\n",
       "      <td>senior</td>\n",
       "      <td>moyen</td>\n",
       "      <td>non</td>\n",
       "      <td>oui</td>\n",
       "    </tr>\n",
       "    <tr>\n",
       "      <th>4</th>\n",
       "      <td>senior</td>\n",
       "      <td>bas</td>\n",
       "      <td>oui</td>\n",
       "      <td>oui</td>\n",
       "    </tr>\n",
       "    <tr>\n",
       "      <th>5</th>\n",
       "      <td>senior</td>\n",
       "      <td>bas</td>\n",
       "      <td>oui</td>\n",
       "      <td>non</td>\n",
       "    </tr>\n",
       "    <tr>\n",
       "      <th>6</th>\n",
       "      <td>moyen</td>\n",
       "      <td>bas</td>\n",
       "      <td>oui</td>\n",
       "      <td>oui</td>\n",
       "    </tr>\n",
       "    <tr>\n",
       "      <th>7</th>\n",
       "      <td>petit</td>\n",
       "      <td>moyen</td>\n",
       "      <td>non</td>\n",
       "      <td>non</td>\n",
       "    </tr>\n",
       "    <tr>\n",
       "      <th>8</th>\n",
       "      <td>petit</td>\n",
       "      <td>bas</td>\n",
       "      <td>oui</td>\n",
       "      <td>oui</td>\n",
       "    </tr>\n",
       "    <tr>\n",
       "      <th>9</th>\n",
       "      <td>senior</td>\n",
       "      <td>moyen</td>\n",
       "      <td>oui</td>\n",
       "      <td>oui</td>\n",
       "    </tr>\n",
       "    <tr>\n",
       "      <th>10</th>\n",
       "      <td>petit</td>\n",
       "      <td>moyen</td>\n",
       "      <td>oui</td>\n",
       "      <td>oui</td>\n",
       "    </tr>\n",
       "    <tr>\n",
       "      <th>11</th>\n",
       "      <td>moyen</td>\n",
       "      <td>moyen</td>\n",
       "      <td>non</td>\n",
       "      <td>oui</td>\n",
       "    </tr>\n",
       "    <tr>\n",
       "      <th>12</th>\n",
       "      <td>moyen</td>\n",
       "      <td>haut</td>\n",
       "      <td>oui</td>\n",
       "      <td>oui</td>\n",
       "    </tr>\n",
       "    <tr>\n",
       "      <th>13</th>\n",
       "      <td>senior</td>\n",
       "      <td>moyen</td>\n",
       "      <td>non</td>\n",
       "      <td>non</td>\n",
       "    </tr>\n",
       "  </tbody>\n",
       "</table>\n",
       "</div>"
      ],
      "text/plain": [
       "       Age Salaire Etudiant A achete\n",
       "0    petit    haut      non      non\n",
       "1    petit    haut      non      non\n",
       "2    moyen    haut      non      oui\n",
       "3   senior   moyen      non      oui\n",
       "4   senior     bas      oui      oui\n",
       "5   senior     bas      oui      non\n",
       "6    moyen     bas      oui      oui\n",
       "7    petit   moyen      non      non\n",
       "8    petit     bas      oui      oui\n",
       "9   senior   moyen      oui      oui\n",
       "10   petit   moyen      oui      oui\n",
       "11   moyen   moyen      non      oui\n",
       "12   moyen    haut      oui      oui\n",
       "13  senior   moyen      non      non"
      ]
     },
     "execution_count": 10,
     "metadata": {},
     "output_type": "execute_result"
    }
   ],
   "source": [
    "data = pd.read_csv('Data2.csv')\n",
    "features = data.iloc[:, :-1]\n",
    "target_n = data.iloc[:, -1]\n",
    "data"
   ]
  },
  {
   "cell_type": "code",
   "execution_count": 11,
   "metadata": {},
   "outputs": [],
   "source": [
    "label_encoder = LabelEncoder()\n",
    "features = features.apply(label_encoder.fit_transform)\n",
    "target = label_encoder.fit_transform(target_n)"
   ]
  },
  {
   "cell_type": "code",
   "execution_count": 12,
   "metadata": {},
   "outputs": [
    {
     "data": {
      "text/plain": [
       "(    Age  Salaire  Etudiant\n",
       " 9     2        2         1\n",
       " 11    0        2         0\n",
       " 0     1        1         0\n",
       " 12    0        1         1\n",
       " 5     2        0         1\n",
       " 8     1        0         1,\n",
       " array([1, 1, 0, 1, 0, 1]))"
      ]
     },
     "execution_count": 12,
     "metadata": {},
     "output_type": "execute_result"
    }
   ],
   "source": [
    "X_train, X_test, y_train, y_test = train_test_split(features, target, test_size=0.4, random_state=42)\n",
    "X_test, y_test"
   ]
  },
  {
   "cell_type": "code",
   "execution_count": 15,
   "metadata": {},
   "outputs": [
    {
     "name": "stdout",
     "output_type": "stream",
     "text": [
      "MSE: 0.16666666666666666\n",
      "MAE: 0.16666666666666666\n",
      "Report:               precision    recall  f1-score   support\n",
      "\n",
      "           0       1.00      0.50      0.67         2\n",
      "           1       0.80      1.00      0.89         4\n",
      "\n",
      "    accuracy                           0.83         6\n",
      "   macro avg       0.90      0.75      0.78         6\n",
      "weighted avg       0.87      0.83      0.81         6\n",
      "\n"
     ]
    }
   ],
   "source": [
    "tree = DecisionTree(max_depth=6)\n",
    "tree.fit(X_train, y_train)\n",
    "y_pred = tree.predict(X_test)\n",
    "\n",
    "\n",
    "report = classification_report(y_test, y_pred)\n",
    "mse = mean_squared_error(y_test, y_pred)\n",
    "mae = mean_absolute_error(y_test, y_pred)\n",
    "\n",
    "print(f'MSE: {mse}\\nMAE: {mae}\\nReport: {report}')"
   ]
  },
  {
   "cell_type": "code",
   "execution_count": 16,
   "metadata": {},
   "outputs": [
    {
     "data": {
      "image/png": "[encoded data removed]",
      "text/plain": [
       "<Figure size 1000x600 with 1 Axes>"
      ]
     },
     "metadata": {},
     "output_type": "display_data"
    }
   ],
   "source": [
    "from DecisionTreePlotter import DtPlotter #type: ignore\n",
    "\n",
    "plotter = DtPlotter(tree.tree)\n",
    "plotter.plot()"
   ]
  },
  {
   "cell_type": "code",
   "execution_count": 23,
   "metadata": {},
   "outputs": [
    {
     "name": "stdout",
     "output_type": "stream",
     "text": [
      "MSE: 0.0\n",
      "MAE: 0.0\n",
      "Report:               precision    recall  f1-score   support\n",
      "\n",
      "           0       1.00      1.00      1.00        10\n",
      "           1       1.00      1.00      1.00         9\n",
      "           2       1.00      1.00      1.00        11\n",
      "\n",
      "    accuracy                           1.00        30\n",
      "   macro avg       1.00      1.00      1.00        30\n",
      "weighted avg       1.00      1.00      1.00        30\n",
      "\n"
     ]
    }
   ],
   "source": [
    "from sklearn.tree import DecisionTreeClassifier\n",
    "from sklearn import datasets\n",
    "from sklearn.model_selection import train_test_split\n",
    "from sklearn.metrics import mean_squared_error, classification_report, mean_absolute_error\n",
    "from sklearn.preprocessing import StandardScaler\n",
    "\n",
    "iris = datasets.load_iris()\n",
    "features = iris.data\n",
    "target = iris.target\n",
    "\n",
    "scaler = StandardScaler()\n",
    "std_features = scaler.fit_transform(features)\n",
    "\n",
    "X_train, X_test, y_train, y_test = train_test_split(std_features, target, test_size=0.2, random_state=42)\n",
    "\n",
    "\n",
    "decisiontree = DecisionTreeClassifier(random_state=0)\n",
    "model = decisiontree.fit(X_train,y_train)\n",
    "y_pred = model.predict(X_test)\n",
    "\n",
    "report = classification_report(y_test, y_pred)\n",
    "mse = mean_squared_error(y_test, y_pred)\n",
    "mae = mean_absolute_error(y_test, y_pred)\n",
    "\n",
    "print(f'MSE: {mse}\\nMAE: {mae}\\nReport: {report}')\n"
   ]
  },
  {
   "cell_type": "code",
   "execution_count": 30,
   "metadata": {},
   "outputs": [
    {
     "data": {
      "application/vnd.microsoft.datawrangler.viewer.v0+json": {
       "columns": [
        {
         "name": "index",
         "rawType": "int64",
         "type": "integer"
        },
        {
         "name": "sepal length (cm)",
         "rawType": "float64",
         "type": "float"
        },
        {
         "name": "sepal width (cm)",
         "rawType": "float64",
         "type": "float"
        },
        {
         "name": "petal length (cm)",
         "rawType": "float64",
         "type": "float"
        },
        {
         "name": "petal width (cm)",
         "rawType": "float64",
         "type": "float"
        },
        {
         "name": "target",
         "rawType": "int64",
         "type": "integer"
        }
       ],
       "conversionMethod": "pd.DataFrame",
       "ref": "13127392-e8d9-4f59-9d28-7da9f3c36f58",
       "rows": [
        [
         "0",
         "5.1",
         "3.5",
         "1.4",
         "0.2",
         "0"
        ],
        [
         "1",
         "4.9",
         "3.0",
         "1.4",
         "0.2",
         "0"
        ],
        [
         "2",
         "4.7",
         "3.2",
         "1.3",
         "0.2",
         "0"
        ],
        [
         "3",
         "4.6",
         "3.1",
         "1.5",
         "0.2",
         "0"
        ],
        [
         "4",
         "5.0",
         "3.6",
         "1.4",
         "0.2",
         "0"
        ],
        [
         "5",
         "5.4",
         "3.9",
         "1.7",
         "0.4",
         "0"
        ],
        [
         "6",
         "4.6",
         "3.4",
         "1.4",
         "0.3",
         "0"
        ],
        [
         "7",
         "5.0",
         "3.4",
         "1.5",
         "0.2",
         "0"
        ],
        [
         "8",
         "4.4",
         "2.9",
         "1.4",
         "0.2",
         "0"
        ],
        [
         "9",
         "4.9",
         "3.1",
         "1.5",
         "0.1",
         "0"
        ],
        [
         "10",
         "5.4",
         "3.7",
         "1.5",
         "0.2",
         "0"
        ],
        [
         "11",
         "4.8",
         "3.4",
         "1.6",
         "0.2",
         "0"
        ],
        [
         "12",
         "4.8",
         "3.0",
         "1.4",
         "0.1",
         "0"
        ],
        [
         "13",
         "4.3",
         "3.0",
         "1.1",
         "0.1",
         "0"
        ],
        [
         "14",
         "5.8",
         "4.0",
         "1.2",
         "0.2",
         "0"
        ],
        [
         "15",
         "5.7",
         "4.4",
         "1.5",
         "0.4",
         "0"
        ],
        [
         "16",
         "5.4",
         "3.9",
         "1.3",
         "0.4",
         "0"
        ],
        [
         "17",
         "5.1",
         "3.5",
         "1.4",
         "0.3",
         "0"
        ],
        [
         "18",
         "5.7",
         "3.8",
         "1.7",
         "0.3",
         "0"
        ],
        [
         "19",
         "5.1",
         "3.8",
         "1.5",
         "0.3",
         "0"
        ],
        [
         "20",
         "5.4",
         "3.4",
         "1.7",
         "0.2",
         "0"
        ],
        [
         "21",
         "5.1",
         "3.7",
         "1.5",
         "0.4",
         "0"
        ],
        [
         "22",
         "4.6",
         "3.6",
         "1.0",
         "0.2",
         "0"
        ],
        [
         "23",
         "5.1",
         "3.3",
         "1.7",
         "0.5",
         "0"
        ],
        [
         "24",
         "4.8",
         "3.4",
         "1.9",
         "0.2",
         "0"
        ],
        [
         "25",
         "5.0",
         "3.0",
         "1.6",
         "0.2",
         "0"
        ],
        [
         "26",
         "5.0",
         "3.4",
         "1.6",
         "0.4",
         "0"
        ],
        [
         "27",
         "5.2",
         "3.5",
         "1.5",
         "0.2",
         "0"
        ],
        [
         "28",
         "5.2",
         "3.4",
         "1.4",
         "0.2",
         "0"
        ],
        [
         "29",
         "4.7",
         "3.2",
         "1.6",
         "0.2",
         "0"
        ],
        [
         "30",
         "4.8",
         "3.1",
         "1.6",
         "0.2",
         "0"
        ],
        [
         "31",
         "5.4",
         "3.4",
         "1.5",
         "0.4",
         "0"
        ],
        [
         "32",
         "5.2",
         "4.1",
         "1.5",
         "0.1",
         "0"
        ],
        [
         "33",
         "5.5",
         "4.2",
         "1.4",
         "0.2",
         "0"
        ],
        [
         "34",
         "4.9",
         "3.1",
         "1.5",
         "0.2",
         "0"
        ],
        [
         "35",
         "5.0",
         "3.2",
         "1.2",
         "0.2",
         "0"
        ],
        [
         "36",
         "5.5",
         "3.5",
         "1.3",
         "0.2",
         "0"
        ],
        [
         "37",
         "4.9",
         "3.6",
         "1.4",
         "0.1",
         "0"
        ],
        [
         "38",
         "4.4",
         "3.0",
         "1.3",
         "0.2",
         "0"
        ],
        [
         "39",
         "5.1",
         "3.4",
         "1.5",
         "0.2",
         "0"
        ],
        [
         "40",
         "5.0",
         "3.5",
         "1.3",
         "0.3",
         "0"
        ],
        [
         "41",
         "4.5",
         "2.3",
         "1.3",
         "0.3",
         "0"
        ],
        [
         "42",
         "4.4",
         "3.2",
         "1.3",
         "0.2",
         "0"
        ],
        [
         "43",
         "5.0",
         "3.5",
         "1.6",
         "0.6",
         "0"
        ],
        [
         "44",
         "5.1",
         "3.8",
         "1.9",
         "0.4",
         "0"
        ],
        [
         "45",
         "4.8",
         "3.0",
         "1.4",
         "0.3",
         "0"
        ],
        [
         "46",
         "5.1",
         "3.8",
         "1.6",
         "0.2",
         "0"
        ],
        [
         "47",
         "4.6",
         "3.2",
         "1.4",
         "0.2",
         "0"
        ],
        [
         "48",
         "5.3",
         "3.7",
         "1.5",
         "0.2",
         "0"
        ],
        [
         "49",
         "5.0",
         "3.3",
         "1.4",
         "0.2",
         "0"
        ]
       ],
       "shape": {
        "columns": 5,
        "rows": 150
       }
      },
      "text/html": [
       "<div>\n",
       "<style scoped>\n",
       "    .dataframe tbody tr th:only-of-type {\n",
       "        vertical-align: middle;\n",
       "    }\n",
       "\n",
       "    .dataframe tbody tr th {\n",
       "        vertical-align: top;\n",
       "    }\n",
       "\n",
       "    .dataframe thead th {\n",
       "        text-align: right;\n",
       "    }\n",
       "</style>\n",
       "<table border=\"1\" class=\"dataframe\">\n",
       "  <thead>\n",
       "    <tr style=\"text-align: right;\">\n",
       "      <th></th>\n",
       "      <th>sepal length (cm)</th>\n",
       "      <th>sepal width (cm)</th>\n",
       "      <th>petal length (cm)</th>\n",
       "      <th>petal width (cm)</th>\n",
       "      <th>target</th>\n",
       "    </tr>\n",
       "  </thead>\n",
       "  <tbody>\n",
       "    <tr>\n",
       "      <th>0</th>\n",
       "      <td>5.1</td>\n",
       "      <td>3.5</td>\n",
       "      <td>1.4</td>\n",
       "      <td>0.2</td>\n",
       "      <td>0</td>\n",
       "    </tr>\n",
       "    <tr>\n",
       "      <th>1</th>\n",
       "      <td>4.9</td>\n",
       "      <td>3.0</td>\n",
       "      <td>1.4</td>\n",
       "      <td>0.2</td>\n",
       "      <td>0</td>\n",
       "    </tr>\n",
       "    <tr>\n",
       "      <th>2</th>\n",
       "      <td>4.7</td>\n",
       "      <td>3.2</td>\n",
       "      <td>1.3</td>\n",
       "      <td>0.2</td>\n",
       "      <td>0</td>\n",
       "    </tr>\n",
       "    <tr>\n",
       "      <th>3</th>\n",
       "      <td>4.6</td>\n",
       "      <td>3.1</td>\n",
       "      <td>1.5</td>\n",
       "      <td>0.2</td>\n",
       "      <td>0</td>\n",
       "    </tr>\n",
       "    <tr>\n",
       "      <th>4</th>\n",
       "      <td>5.0</td>\n",
       "      <td>3.6</td>\n",
       "      <td>1.4</td>\n",
       "      <td>0.2</td>\n",
       "      <td>0</td>\n",
       "    </tr>\n",
       "    <tr>\n",
       "      <th>...</th>\n",
       "      <td>...</td>\n",
       "      <td>...</td>\n",
       "      <td>...</td>\n",
       "      <td>...</td>\n",
       "      <td>...</td>\n",
       "    </tr>\n",
       "    <tr>\n",
       "      <th>145</th>\n",
       "      <td>6.7</td>\n",
       "      <td>3.0</td>\n",
       "      <td>5.2</td>\n",
       "      <td>2.3</td>\n",
       "      <td>2</td>\n",
       "    </tr>\n",
       "    <tr>\n",
       "      <th>146</th>\n",
       "      <td>6.3</td>\n",
       "      <td>2.5</td>\n",
       "      <td>5.0</td>\n",
       "      <td>1.9</td>\n",
       "      <td>2</td>\n",
       "    </tr>\n",
       "    <tr>\n",
       "      <th>147</th>\n",
       "      <td>6.5</td>\n",
       "      <td>3.0</td>\n",
       "      <td>5.2</td>\n",
       "      <td>2.0</td>\n",
       "      <td>2</td>\n",
       "    </tr>\n",
       "    <tr>\n",
       "      <th>148</th>\n",
       "      <td>6.2</td>\n",
       "      <td>3.4</td>\n",
       "      <td>5.4</td>\n",
       "      <td>2.3</td>\n",
       "      <td>2</td>\n",
       "    </tr>\n",
       "    <tr>\n",
       "      <th>149</th>\n",
       "      <td>5.9</td>\n",
       "      <td>3.0</td>\n",
       "      <td>5.1</td>\n",
       "      <td>1.8</td>\n",
       "      <td>2</td>\n",
       "    </tr>\n",
       "  </tbody>\n",
       "</table>\n",
       "<p>150 rows × 5 columns</p>\n",
       "</div>"
      ],
      "text/plain": [
       "     sepal length (cm)  sepal width (cm)  petal length (cm)  petal width (cm)  \\\n",
       "0                  5.1               3.5                1.4               0.2   \n",
       "1                  4.9               3.0                1.4               0.2   \n",
       "2                  4.7               3.2                1.3               0.2   \n",
       "3                  4.6               3.1                1.5               0.2   \n",
       "4                  5.0               3.6                1.4               0.2   \n",
       "..                 ...               ...                ...               ...   \n",
       "145                6.7               3.0                5.2               2.3   \n",
       "146                6.3               2.5                5.0               1.9   \n",
       "147                6.5               3.0                5.2               2.0   \n",
       "148                6.2               3.4                5.4               2.3   \n",
       "149                5.9               3.0                5.1               1.8   \n",
       "\n",
       "     target  \n",
       "0         0  \n",
       "1         0  \n",
       "2         0  \n",
       "3         0  \n",
       "4         0  \n",
       "..      ...  \n",
       "145       2  \n",
       "146       2  \n",
       "147       2  \n",
       "148       2  \n",
       "149       2  \n",
       "\n",
       "[150 rows x 5 columns]"
      ]
     },
     "execution_count": 30,
     "metadata": {},
     "output_type": "execute_result"
    }
   ],
   "source": [
    "data = pd.DataFrame(iris.data, columns=iris.feature_names)\n",
    "data['target'] = iris.target\n",
    "data"
   ]
  },
  {
   "cell_type": "code",
   "execution_count": 34,
   "metadata": {},
   "outputs": [
    {
     "data": {
      "application/vnd.microsoft.datawrangler.viewer.v0+json": {
       "columns": [
        {
         "name": "index",
         "rawType": "int64",
         "type": "integer"
        },
        {
         "name": "sepal length (cm)",
         "rawType": "float64",
         "type": "float"
        },
        {
         "name": "sepal width (cm)",
         "rawType": "float64",
         "type": "float"
        },
        {
         "name": "petal length (cm)",
         "rawType": "float64",
         "type": "float"
        },
        {
         "name": "petal width (cm)",
         "rawType": "float64",
         "type": "float"
        }
       ],
       "conversionMethod": "pd.DataFrame",
       "ref": "b7b0b83f-6ece-46bc-9b0e-e3aa6fa0966f",
       "rows": [
        [
         "0",
         "-0.9006811702978099",
         "1.0190043519716065",
         "-1.3402265266227635",
         "-1.3154442950077407"
        ],
        [
         "1",
         "-1.1430169111851116",
         "-0.1319794793216258",
         "-1.3402265266227635",
         "-1.3154442950077407"
        ],
        [
         "2",
         "-1.3853526520724144",
         "0.3284140531956675",
         "-1.3970639535363667",
         "-1.3154442950077407"
        ],
        [
         "3",
         "-1.5065205225160663",
         "0.09821728693702086",
         "-1.2833890997091604",
         "-1.3154442950077407"
        ],
        [
         "4",
         "-1.0218490407414607",
         "1.2492011182302531",
         "-1.3402265266227635",
         "-1.3154442950077407"
        ],
        [
         "5",
         "-0.5371775589668552",
         "1.939791417006192",
         "-1.169714245881954",
         "-1.052179926427139"
        ],
        [
         "6",
         "-1.5065205225160663",
         "0.7888075857129598",
         "-1.3402265266227635",
         "-1.18381211071744"
        ],
        [
         "7",
         "-1.0218490407414607",
         "0.7888075857129598",
         "-1.2833890997091604",
         "-1.3154442950077407"
        ],
        [
         "8",
         "-1.748856263403368",
         "-0.36217624558027245",
         "-1.3402265266227635",
         "-1.3154442950077407"
        ],
        [
         "9",
         "-1.1430169111851116",
         "0.09821728693702086",
         "-1.2833890997091604",
         "-1.4470764792980415"
        ],
        [
         "10",
         "-0.5371775589668552",
         "1.4793978844888998",
         "-1.2833890997091604",
         "-1.3154442950077407"
        ],
        [
         "11",
         "-1.2641847816287635",
         "0.7888075857129598",
         "-1.2265516727955572",
         "-1.3154442950077407"
        ],
        [
         "12",
         "-1.2641847816287635",
         "-0.1319794793216258",
         "-1.3402265266227635",
         "-1.4470764792980415"
        ],
        [
         "13",
         "-1.87002413384702",
         "-0.1319794793216258",
         "-1.5107388073635728",
         "-1.4470764792980415"
        ],
        [
         "14",
         "-0.052506077192250644",
         "2.169988183264839",
         "-1.4539013804499696",
         "-1.3154442950077407"
        ],
        [
         "15",
         "-0.1736739476359015",
         "3.0907752482994253",
         "-1.2833890997091604",
         "-1.052179926427139"
        ],
        [
         "16",
         "-0.5371775589668552",
         "1.939791417006192",
         "-1.3970639535363667",
         "-1.052179926427139"
        ],
        [
         "17",
         "-0.9006811702978099",
         "1.0190043519716065",
         "-1.3402265266227635",
         "-1.18381211071744"
        ],
        [
         "18",
         "-0.1736739476359015",
         "1.7095946507475455",
         "-1.169714245881954",
         "-1.18381211071744"
        ],
        [
         "19",
         "-0.9006811702978099",
         "1.7095946507475455",
         "-1.2833890997091604",
         "-1.18381211071744"
        ],
        [
         "20",
         "-0.5371775589668552",
         "0.7888075857129598",
         "-1.169714245881954",
         "-1.3154442950077407"
        ],
        [
         "21",
         "-0.9006811702978099",
         "1.4793978844888998",
         "-1.2833890997091604",
         "-1.052179926427139"
        ],
        [
         "22",
         "-1.5065205225160663",
         "1.2492011182302531",
         "-1.567576234277176",
         "-1.3154442950077407"
        ],
        [
         "23",
         "-0.9006811702978099",
         "0.5586108194543131",
         "-1.169714245881954",
         "-0.9205477421368382"
        ],
        [
         "24",
         "-1.2641847816287635",
         "0.7888075857129598",
         "-1.056039392054748",
         "-1.3154442950077407"
        ],
        [
         "25",
         "-1.0218490407414607",
         "-0.1319794793216258",
         "-1.2265516727955572",
         "-1.3154442950077407"
        ],
        [
         "26",
         "-1.0218490407414607",
         "0.7888075857129598",
         "-1.2265516727955572",
         "-1.052179926427139"
        ],
        [
         "27",
         "-0.779513299854158",
         "1.0190043519716065",
         "-1.2833890997091604",
         "-1.3154442950077407"
        ],
        [
         "28",
         "-0.779513299854158",
         "0.7888075857129598",
         "-1.3402265266227635",
         "-1.3154442950077407"
        ],
        [
         "29",
         "-1.3853526520724144",
         "0.3284140531956675",
         "-1.2265516727955572",
         "-1.3154442950077407"
        ],
        [
         "30",
         "-1.2641847816287635",
         "0.09821728693702086",
         "-1.2265516727955572",
         "-1.3154442950077407"
        ],
        [
         "31",
         "-0.5371775589668552",
         "0.7888075857129598",
         "-1.2833890997091604",
         "-1.052179926427139"
        ],
        [
         "32",
         "-0.779513299854158",
         "2.400184949523484",
         "-1.2833890997091604",
         "-1.4470764792980415"
        ],
        [
         "33",
         "-0.4160096885232043",
         "2.630381715782132",
         "-1.3402265266227635",
         "-1.3154442950077407"
        ],
        [
         "34",
         "-1.1430169111851116",
         "0.09821728693702086",
         "-1.2833890997091604",
         "-1.3154442950077407"
        ],
        [
         "35",
         "-1.0218490407414607",
         "0.3284140531956675",
         "-1.4539013804499696",
         "-1.3154442950077407"
        ],
        [
         "36",
         "-0.4160096885232043",
         "1.0190043519716065",
         "-1.3970639535363667",
         "-1.3154442950077407"
        ],
        [
         "37",
         "-1.1430169111851116",
         "1.2492011182302531",
         "-1.3402265266227635",
         "-1.4470764792980415"
        ],
        [
         "38",
         "-1.748856263403368",
         "-0.1319794793216258",
         "-1.3970639535363667",
         "-1.3154442950077407"
        ],
        [
         "39",
         "-0.9006811702978099",
         "0.7888075857129598",
         "-1.2833890997091604",
         "-1.3154442950077407"
        ],
        [
         "40",
         "-1.0218490407414607",
         "1.0190043519716065",
         "-1.3970639535363667",
         "-1.18381211071744"
        ],
        [
         "41",
         "-1.6276883929597172",
         "-1.7433568431321513",
         "-1.3970639535363667",
         "-1.18381211071744"
        ],
        [
         "42",
         "-1.748856263403368",
         "0.3284140531956675",
         "-1.3970639535363667",
         "-1.3154442950077407"
        ],
        [
         "43",
         "-1.0218490407414607",
         "1.0190043519716065",
         "-1.2265516727955572",
         "-0.7889155578465374"
        ],
        [
         "44",
         "-0.9006811702978099",
         "1.7095946507475455",
         "-1.056039392054748",
         "-1.052179926427139"
        ],
        [
         "45",
         "-1.2641847816287635",
         "-0.1319794793216258",
         "-1.3402265266227635",
         "-1.18381211071744"
        ],
        [
         "46",
         "-0.9006811702978099",
         "1.7095946507475455",
         "-1.2265516727955572",
         "-1.3154442950077407"
        ],
        [
         "47",
         "-1.5065205225160663",
         "0.3284140531956675",
         "-1.3402265266227635",
         "-1.3154442950077407"
        ],
        [
         "48",
         "-0.6583454294105071",
         "1.4793978844888998",
         "-1.2833890997091604",
         "-1.3154442950077407"
        ],
        [
         "49",
         "-1.0218490407414607",
         "0.5586108194543131",
         "-1.3402265266227635",
         "-1.3154442950077407"
        ]
       ],
       "shape": {
        "columns": 4,
        "rows": 150
       }
      },
      "text/html": [
       "<div>\n",
       "<style scoped>\n",
       "    .dataframe tbody tr th:only-of-type {\n",
       "        vertical-align: middle;\n",
       "    }\n",
       "\n",
       "    .dataframe tbody tr th {\n",
       "        vertical-align: top;\n",
       "    }\n",
       "\n",
       "    .dataframe thead th {\n",
       "        text-align: right;\n",
       "    }\n",
       "</style>\n",
       "<table border=\"1\" class=\"dataframe\">\n",
       "  <thead>\n",
       "    <tr style=\"text-align: right;\">\n",
       "      <th></th>\n",
       "      <th>sepal length (cm)</th>\n",
       "      <th>sepal width (cm)</th>\n",
       "      <th>petal length (cm)</th>\n",
       "      <th>petal width (cm)</th>\n",
       "    </tr>\n",
       "  </thead>\n",
       "  <tbody>\n",
       "    <tr>\n",
       "      <th>0</th>\n",
       "      <td>-0.900681</td>\n",
       "      <td>1.019004</td>\n",
       "      <td>-1.340227</td>\n",
       "      <td>-1.315444</td>\n",
       "    </tr>\n",
       "    <tr>\n",
       "      <th>1</th>\n",
       "      <td>-1.143017</td>\n",
       "      <td>-0.131979</td>\n",
       "      <td>-1.340227</td>\n",
       "      <td>-1.315444</td>\n",
       "    </tr>\n",
       "    <tr>\n",
       "      <th>2</th>\n",
       "      <td>-1.385353</td>\n",
       "      <td>0.328414</td>\n",
       "      <td>-1.397064</td>\n",
       "      <td>-1.315444</td>\n",
       "    </tr>\n",
       "    <tr>\n",
       "      <th>3</th>\n",
       "      <td>-1.506521</td>\n",
       "      <td>0.098217</td>\n",
       "      <td>-1.283389</td>\n",
       "      <td>-1.315444</td>\n",
       "    </tr>\n",
       "    <tr>\n",
       "      <th>4</th>\n",
       "      <td>-1.021849</td>\n",
       "      <td>1.249201</td>\n",
       "      <td>-1.340227</td>\n",
       "      <td>-1.315444</td>\n",
       "    </tr>\n",
       "    <tr>\n",
       "      <th>...</th>\n",
       "      <td>...</td>\n",
       "      <td>...</td>\n",
       "      <td>...</td>\n",
       "      <td>...</td>\n",
       "    </tr>\n",
       "    <tr>\n",
       "      <th>145</th>\n",
       "      <td>1.038005</td>\n",
       "      <td>-0.131979</td>\n",
       "      <td>0.819596</td>\n",
       "      <td>1.448832</td>\n",
       "    </tr>\n",
       "    <tr>\n",
       "      <th>146</th>\n",
       "      <td>0.553333</td>\n",
       "      <td>-1.282963</td>\n",
       "      <td>0.705921</td>\n",
       "      <td>0.922303</td>\n",
       "    </tr>\n",
       "    <tr>\n",
       "      <th>147</th>\n",
       "      <td>0.795669</td>\n",
       "      <td>-0.131979</td>\n",
       "      <td>0.819596</td>\n",
       "      <td>1.053935</td>\n",
       "    </tr>\n",
       "    <tr>\n",
       "      <th>148</th>\n",
       "      <td>0.432165</td>\n",
       "      <td>0.788808</td>\n",
       "      <td>0.933271</td>\n",
       "      <td>1.448832</td>\n",
       "    </tr>\n",
       "    <tr>\n",
       "      <th>149</th>\n",
       "      <td>0.068662</td>\n",
       "      <td>-0.131979</td>\n",
       "      <td>0.762758</td>\n",
       "      <td>0.790671</td>\n",
       "    </tr>\n",
       "  </tbody>\n",
       "</table>\n",
       "<p>150 rows × 4 columns</p>\n",
       "</div>"
      ],
      "text/plain": [
       "     sepal length (cm)  sepal width (cm)  petal length (cm)  petal width (cm)\n",
       "0            -0.900681          1.019004          -1.340227         -1.315444\n",
       "1            -1.143017         -0.131979          -1.340227         -1.315444\n",
       "2            -1.385353          0.328414          -1.397064         -1.315444\n",
       "3            -1.506521          0.098217          -1.283389         -1.315444\n",
       "4            -1.021849          1.249201          -1.340227         -1.315444\n",
       "..                 ...               ...                ...               ...\n",
       "145           1.038005         -0.131979           0.819596          1.448832\n",
       "146           0.553333         -1.282963           0.705921          0.922303\n",
       "147           0.795669         -0.131979           0.819596          1.053935\n",
       "148           0.432165          0.788808           0.933271          1.448832\n",
       "149           0.068662         -0.131979           0.762758          0.790671\n",
       "\n",
       "[150 rows x 4 columns]"
      ]
     },
     "execution_count": 34,
     "metadata": {},
     "output_type": "execute_result"
    }
   ],
   "source": [
    "features = data.iloc[:, :-1]\n",
    "target = data.iloc[:, -1]\n",
    "\n",
    "scaler = StandardScaler()\n",
    "std_features = pd.DataFrame(scaler.fit_transform(features), columns=features.columns)\n",
    "std_features"
   ]
  },
  {
   "cell_type": "code",
   "execution_count": 41,
   "metadata": {},
   "outputs": [
    {
     "name": "stdout",
     "output_type": "stream",
     "text": [
      "MSE: 0.0\n",
      "MAE: 0.0\n",
      "Report:               precision    recall  f1-score   support\n",
      "\n",
      "           0       1.00      1.00      1.00        10\n",
      "           1       1.00      1.00      1.00         9\n",
      "           2       1.00      1.00      1.00        11\n",
      "\n",
      "    accuracy                           1.00        30\n",
      "   macro avg       1.00      1.00      1.00        30\n",
      "weighted avg       1.00      1.00      1.00        30\n",
      "\n"
     ]
    }
   ],
   "source": [
    "X_train, X_test, y_train, y_test = train_test_split(std_features, target, test_size=0.2, random_state=42)\n",
    "\n",
    "tree = DecisionTree(max_depth=5)\n",
    "tree.fit(X_train, y_train)\n",
    "y_pred = tree.predict(X_test)\n",
    "\n",
    "\n",
    "report = classification_report(y_test, y_pred)\n",
    "mse = mean_squared_error(y_test, y_pred)\n",
    "mae = mean_absolute_error(y_test, y_pred)\n",
    "\n",
    "print(f'MSE: {mse}\\nMAE: {mae}\\nReport: {report}')"
   ]
  },
  {
   "cell_type": "code",
   "execution_count": 42,
   "metadata": {},
   "outputs": [
    {
     "data": {
      "image/png": "[encoded data removed]",
      "text/plain": [
       "<Figure size 1000x600 with 1 Axes>"
      ]
     },
     "metadata": {},
     "output_type": "display_data"
    }
   ],
   "source": [
    "from DecisionTreePlotter import DtPlotter #type: ignore\n",
    "\n",
    "plotter = DtPlotter(tree.tree)\n",
    "plotter.plot()"
   ]
  }
 ],
 "metadata": {
  "kernelspec": {
   "display_name": "Python 3",
   "language": "python",
   "name": "python3"
  },
  "language_info": {
   "codemirror_mode": {
    "name": "ipython",
    "version": 3
   },
   "file_extension": ".py",
   "mimetype": "text/x-python",
   "name": "python",
   "nbconvert_exporter": "python",
   "pygments_lexer": "ipython3",
   "version": "3.13.0"
  }
 },
 "nbformat": 4,
 "nbformat_minor": 2
}
